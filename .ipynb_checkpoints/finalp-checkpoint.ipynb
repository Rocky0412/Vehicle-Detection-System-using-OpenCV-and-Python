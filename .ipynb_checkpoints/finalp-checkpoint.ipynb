{
 "cells": [
  {
   "cell_type": "code",
   "execution_count": 1,
   "metadata": {},
   "outputs": [],
   "source": [
    "#importing essential libary\n"
   ]
  },
  {
   "cell_type": "code",
   "execution_count": 2,
   "metadata": {},
   "outputs": [],
   "source": [
    "import cv2"
   ]
  },
  {
   "cell_type": "code",
   "execution_count": 3,
   "metadata": {},
   "outputs": [],
   "source": [
    "import numpy as  np"
   ]
  },
  {
   "cell_type": "code",
   "execution_count": 4,
   "metadata": {},
   "outputs": [],
   "source": [
    "#Web camera\n",
    "cap=cv2.VideoCapture('video.mp4')\n",
    "min_width_react=80\n",
    "min_height_react=80\n",
    "count_line_position=550\n",
    "offset=6 #allowable error\n",
    "counter=0"
   ]
  },
  {
   "cell_type": "code",
   "execution_count": 5,
   "metadata": {},
   "outputs": [],
   "source": [
    "def center_handle(x,y,w,h):\n",
    "    x1=int(x/2)\n",
    "    y1=int(y/2)\n",
    "    cx=x+x1\n",
    "    cy=y+y1\n",
    "    return cx,cy"
   ]
  },
  {
   "cell_type": "code",
   "execution_count": 6,
   "metadata": {},
   "outputs": [],
   "source": [
    "algo=cv2.createBackgroundSubtractorMOG2()\n",
    "detect=[]"
   ]
  },
  {
   "cell_type": "code",
   "execution_count": null,
   "metadata": {},
   "outputs": [
    {
     "name": "stdout",
     "output_type": "stream",
     "text": [
      "veccle counter:1\n",
      "veccle counter:2\n",
      "veccle counter:3\n",
      "veccle counter:4\n",
      "veccle counter:5\n",
      "veccle counter:6\n",
      "veccle counter:7\n",
      "veccle counter:8\n",
      "veccle counter:9\n",
      "veccle counter:10\n",
      "veccle counter:11\n",
      "veccle counter:12\n",
      "veccle counter:13\n",
      "veccle counter:14\n",
      "veccle counter:15\n",
      "veccle counter:16\n",
      "veccle counter:17\n",
      "veccle counter:18\n",
      "veccle counter:19\n",
      "veccle counter:20\n",
      "veccle counter:21\n",
      "veccle counter:22\n",
      "veccle counter:23\n",
      "veccle counter:24\n",
      "veccle counter:25\n",
      "veccle counter:26\n",
      "veccle counter:27\n",
      "veccle counter:28\n",
      "veccle counter:29\n",
      "veccle counter:30\n",
      "veccle counter:31\n",
      "veccle counter:32\n",
      "veccle counter:33\n",
      "veccle counter:34\n",
      "veccle counter:35\n",
      "veccle counter:36\n",
      "veccle counter:37\n",
      "veccle counter:38\n",
      "veccle counter:39\n",
      "veccle counter:40\n",
      "veccle counter:41\n",
      "veccle counter:42\n",
      "veccle counter:43\n",
      "veccle counter:44\n",
      "veccle counter:45\n",
      "veccle counter:46\n",
      "veccle counter:47\n",
      "veccle counter:48\n",
      "veccle counter:49\n",
      "veccle counter:50\n",
      "veccle counter:51\n",
      "veccle counter:52\n",
      "veccle counter:53\n",
      "veccle counter:54\n",
      "veccle counter:55\n",
      "veccle counter:56\n",
      "veccle counter:57\n",
      "veccle counter:58\n",
      "veccle counter:59\n",
      "veccle counter:60\n",
      "veccle counter:61\n",
      "veccle counter:62\n",
      "veccle counter:63\n",
      "veccle counter:64\n",
      "veccle counter:65\n",
      "veccle counter:66\n",
      "veccle counter:67\n",
      "veccle counter:68\n",
      "veccle counter:69\n",
      "veccle counter:70\n",
      "veccle counter:71\n",
      "veccle counter:72\n",
      "veccle counter:73\n",
      "veccle counter:74"
     ]
    }
   ],
   "source": [
    "\n",
    "offset=6 #allowable error\n",
    "counter=0\n",
    "while True:\n",
    "    ret,frame1=cap.read()\n",
    "    #cv2.imshow('Video original before',frame1)\n",
    "    grey=cv2.cvtColor(frame1,cv2.COLOR_BGR2GRAY)\n",
    "    blur=cv2.GaussianBlur(grey,(3,3),5)\n",
    "    #applying each frame\n",
    "    img_sub= algo.apply(blur)\n",
    "    dilat=cv2.dilate(img_sub,np.ones((5,5)))\n",
    "    kernal=cv2.getStructuringElement(cv2.MORPH_ELLIPSE,(5,5))\n",
    "    dilatada=cv2.morphologyEx(dilat,cv2.MORPH_CLOSE,kernal)\n",
    "    dilatada=cv2.morphologyEx(dilatada,cv2.MORPH_CLOSE,kernal)\n",
    "    counterShape,h=cv2.findContours(dilatada,cv2.RETR_TREE,cv2.CHAIN_APPROX_SIMPLE)\n",
    "    #cv2.imshow('Detect',dilatada)\n",
    "    #coun line position \n",
    "    #cv2.line(frame1,(25,counter_line_position),(1200,count_line_position),(255,127,0),3)\n",
    "    cv2.line(frame1,(25,550),(1200,550),(255,127,0),3)\n",
    "    \n",
    "    for (i,c) in enumerate(counterShape):\n",
    "        (x,y,w,h)=cv2.boundingRect(c)\n",
    "        validate_counter=(w>= min_width_react) and (h>=min_height_react)\n",
    "        if not validate_counter:\n",
    "            continue\n",
    "        \n",
    "        cv2.rectangle(frame1,(x,y),(x+w,y+h),(0,0,255),2)\n",
    "        cv2.putText(frame1,\"Vehicle:\"+str(counter),(x,y-20),cv2.FONT_HERSHEY_SIMPLEX,1,(255,244,0),2)\n",
    "        center=center_handle(x,y,w,h)\n",
    "        detect.append(center)\n",
    "        cv2.circle(frame1,center,4,(0,0,255),-1)\n",
    "        \n",
    "        \n",
    "        for (x,y) in detect:\n",
    "            if(y>(count_line_position-offset) and y<(count_line_position+offset)):\n",
    "                counter+=1\n",
    "                print(\"veccle counter:\"+str(counter))\n",
    "            #cv2.line(frame1,(25,counter_line_position),(1200,count_line_position),(0,127,255),3)\n",
    "            cv2.line(frame1,(25,550),(1200,550),(255,127,0),3)\n",
    "            detect.remove((x,y))\n",
    "            #cv2.putText(frame1,\"Vehicle counter:\"+str(counter),(450,70),cv2.FONT_HERSHEY_SIMPLEX,2,(0,0,255),5)\n",
    "            \n",
    "            \n",
    "        cv2.putText(frame1,\"Vehicle counter:\"+str(counter),(450,70),cv2.FONT_HERSHEY_SIMPLEX,2,(0,0,255),5)\n",
    "    \n",
    "    \n",
    "    \n",
    "    cv2.imshow('Video original after',frame1)\n",
    "    if cv2.waitKey(1)==13:\n",
    "        break\n",
    "        \n",
    "cv2.destroyAllWindows()\n",
    "cap.release()"
   ]
  },
  {
   "cell_type": "code",
   "execution_count": null,
   "metadata": {},
   "outputs": [],
   "source": []
  },
  {
   "cell_type": "code",
   "execution_count": null,
   "metadata": {},
   "outputs": [],
   "source": []
  }
 ],
 "metadata": {
  "kernelspec": {
   "display_name": "Python 3",
   "language": "python",
   "name": "python3"
  },
  "language_info": {
   "codemirror_mode": {
    "name": "ipython",
    "version": 3
   },
   "file_extension": ".py",
   "mimetype": "text/x-python",
   "name": "python",
   "nbconvert_exporter": "python",
   "pygments_lexer": "ipython3",
   "version": "3.7.4"
  }
 },
 "nbformat": 4,
 "nbformat_minor": 2
}
